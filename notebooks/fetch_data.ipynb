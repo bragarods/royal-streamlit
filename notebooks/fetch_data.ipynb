{
 "cells": [
  {
   "cell_type": "code",
   "execution_count": null,
   "metadata": {},
   "outputs": [],
   "source": [
    "# append .. to path\n",
    "import sys\n",
    "sys.path.append('..')\n",
    "\n",
    "import networkx as nx\n",
    "import pandas as pd\n",
    "\n",
    "from create_graph import get_graph\n",
    "\n",
    "G, pos = get_graph()\n",
    "\n",
    "df = pd.read_csv('../data/royal92.csv')"
   ]
  },
  {
   "cell_type": "code",
   "execution_count": null,
   "metadata": {},
   "outputs": [],
   "source": [
    "# connected components\n",
    "conn = nx.connected_components(G)\n",
    "\n",
    "# all simple paths\n",
    "paths = nx.all_simple_paths(G, '@I2969@', '@I2970@')\n",
    "\n",
    "conn_node = nx.node_connected_component(G, '@I2969@')\n",
    "G_conn = G.subgraph(conn_node)"
   ]
  },
  {
   "cell_type": "code",
   "execution_count": null,
   "metadata": {},
   "outputs": [],
   "source": [
    "nx.draw_networkx(\n",
    "    G,\n",
    "    pos,\n",
    "    with_labels=True,\n",
    "    node_size=10,\n",
    "    font_size=5,\n",
    "    )"
   ]
  }
 ],
 "metadata": {
  "kernelspec": {
   "display_name": ".venv",
   "language": "python",
   "name": "python3"
  },
  "language_info": {
   "codemirror_mode": {
    "name": "ipython",
    "version": 3
   },
   "file_extension": ".py",
   "mimetype": "text/x-python",
   "name": "python",
   "nbconvert_exporter": "python",
   "pygments_lexer": "ipython3",
   "version": "3.10.8"
  },
  "orig_nbformat": 4
 },
 "nbformat": 4,
 "nbformat_minor": 2
}
